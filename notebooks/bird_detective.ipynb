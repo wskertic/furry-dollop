{
 "cells": [
  {
   "cell_type": "markdown",
   "metadata": {},
   "source": [
    "# Bird Detective\n",
    "\n",
    "## Overview\n",
    "This notebook explores the structure of the NABirds dataset from Cornell Ornithology, referenced [here](https://vision.cornell.edu/se3/wp-content/uploads/2015/05/Horn_Building_a_Bird_2015_CVPR_paper.pdf)."
   ]
  },
  {
   "cell_type": "markdown",
   "metadata": {},
   "source": [
    "#### Data Load\n",
    "The data set has a collection of files relevant to the images that define:\n",
    "- [image location in the directory structure](#image_locations),\n",
    "- [the taxonomic hierarchy](#hierarchy),\n",
    "- [the class labels](#class_labels),\n",
    "- [the class names themselves](#classes),\n",
    "- [bounding boxes for the birds](#bounding_boxes),\n",
    "- [part locations within the images](#part_locations),\n",
    "- [the names for those parts](#parts),\n",
    "- [image sizes](#sizes),\n",
    "- [the photographer's name](#photographers),\n",
    "- [and a train-test split](#train_test_split)."
   ]
  },
  {
   "cell_type": "markdown",
   "metadata": {},
   "source": [
    "##### Import and Configuration"
   ]
  },
  {
   "cell_type": "code",
   "execution_count": 1,
   "metadata": {},
   "outputs": [
    {
     "data": {
      "text/plain": [
       "['furry-dollop/nabirds/bounding_boxes.txt',\n",
       " 'furry-dollop/nabirds/classes.txt',\n",
       " 'furry-dollop/nabirds/hierarchy.txt',\n",
       " 'furry-dollop/nabirds/image_class_labels.txt',\n",
       " 'furry-dollop/nabirds/images.txt',\n",
       " 'furry-dollop/nabirds/photographers.txt',\n",
       " 'furry-dollop/nabirds/sizes.txt',\n",
       " 'furry-dollop/nabirds/train_test_split.txt',\n",
       " 'furry-dollop/nabirds/images',\n",
       " 'furry-dollop/nabirds/parts']"
      ]
     },
     "execution_count": 1,
     "metadata": {},
     "output_type": "execute_result"
    }
   ],
   "source": [
    "import boto3\n",
    "import s3fs\n",
    "import pandas as pd\n",
    "from sagemaker import get_execution_role\n",
    "\n",
    "role = get_execution_role()\n",
    "bucket = \"furry-dollop\"\n",
    "data_key = \"nabirds\"\n",
    "data_location = f\"s3://{bucket}/{data_key}\"\n",
    "\n",
    "fs = s3fs.S3FileSystem()\n",
    "fs.ls(data_location)"
   ]
  },
  {
   "cell_type": "code",
   "execution_count": 2,
   "metadata": {},
   "outputs": [
    {
     "data": {
      "text/plain": [
       "['furry-dollop/nabirds/parts/part_locs.txt',\n",
       " 'furry-dollop/nabirds/parts/parts.txt']"
      ]
     },
     "execution_count": 2,
     "metadata": {},
     "output_type": "execute_result"
    }
   ],
   "source": [
    "fs.ls(data_location+\"/parts\")"
   ]
  },
  {
   "cell_type": "code",
   "execution_count": 3,
   "metadata": {},
   "outputs": [],
   "source": [
    "image_location = data_location + \"/images\""
   ]
  },
  {
   "cell_type": "markdown",
   "metadata": {},
   "source": [
    "##### Fuction Definitions"
   ]
  },
  {
   "cell_type": "code",
   "execution_count": 4,
   "metadata": {},
   "outputs": [],
   "source": [
    "def get_table(file, columns, index=0):\n",
    "    df = pd.read_csv(data_location+\"/\"+file, header=None, sep=\"\\t\", squeeze=True).str.split(\" \", columns, expand=True)\n",
    "    if isinstance(df[index], pd.Series):\n",
    "        df[index] = df[index].astype(int, errors='ignore')\n",
    "#         print(\"your index got squeezed\")\n",
    "    else:\n",
    "        df[index] = df[index].apply(lambda s: s.astype(int, errors='ignore'))\n",
    "        print(\"Your index got split ...MultiIndex FTW!\")\n",
    "    df = df.set_index(index)\n",
    "    if df.index.is_unique:\n",
    "        print(f\"{file}: Success!\")\n",
    "        return df\n",
    "    else:\n",
    "        raise IndexError(f\"Index in {file} is not unique.\")"
   ]
  },
  {
   "cell_type": "markdown",
   "metadata": {},
   "source": [
    "##### Data Loading"
   ]
  },
  {
   "cell_type": "markdown",
   "metadata": {},
   "source": [
    "<a id='image_locations'></a>\n",
    "\n",
    "##### ------- List of image files (images.txt) ------\n",
    "```\n",
    "The list of image file names is contained in the file images.txt, with each line corresponding to one image:\n",
    "\n",
    "<image_id> <image_name>\n",
    "------------------------------------------\n",
    "```"
   ]
  },
  {
   "cell_type": "code",
   "execution_count": 5,
   "metadata": {},
   "outputs": [
    {
     "name": "stdout",
     "output_type": "stream",
     "text": [
      "images.txt: Success!\n"
     ]
    }
   ],
   "source": [
    "img_locs_srs = get_table(\"images.txt\", 1)"
   ]
  },
  {
   "cell_type": "markdown",
   "metadata": {},
   "source": [
    "<a id='hierarchy'></a>\n",
    "\n",
    "##### ------- Class hierarchy (hierarchy.txt) ------\n",
    "```\n",
    "The ground truth class labels (bird species labels) for each image are contained in the file image_class_labels.txt, with each line corresponding to one image:\n",
    "\n",
    "<child_class_id> <parent_class_id>\n",
    "\n",
    "where <child_class_id> and <parent_class_id> correspond to the IDs in classes.txt.\n",
    "---------------------------------------------------------\n",
    "```"
   ]
  },
  {
   "cell_type": "code",
   "execution_count": 6,
   "metadata": {},
   "outputs": [
    {
     "name": "stdout",
     "output_type": "stream",
     "text": [
      "hierarchy.txt: Success!\n"
     ]
    }
   ],
   "source": [
    "class_hierarchy_srs = get_table(\"hierarchy.txt\", 1).astype(int)\n",
    "class_hierarchy_dict = {k:v for k,v in zip(class_hierarchy_srs.index, class_hierarchy_srs[1].values)}"
   ]
  },
  {
   "cell_type": "markdown",
   "metadata": {},
   "source": [
    "<a id='class_labels'></a>\n",
    "\n",
    "##### ------- Image class labels (image_class_labels.txt) ------\n",
    "```\n",
    "The ground truth class labels (bird species labels) for each image are contained in the file image_class_labels.txt, with each line corresponding to one image:\n",
    "\n",
    "<image_id> <class_id>\n",
    "\n",
    "where <image_id> and <class_id> correspond to the IDs in images.txt and classes.txt, respectively.\n",
    "---------------------------------------------------------\n",
    "```"
   ]
  },
  {
   "cell_type": "code",
   "execution_count": 7,
   "metadata": {},
   "outputs": [
    {
     "name": "stdout",
     "output_type": "stream",
     "text": [
      "image_class_labels.txt: Success!\n"
     ]
    }
   ],
   "source": [
    "img_class_labels_srs = get_table(\"image_class_labels.txt\", 1)\n",
    "## Can inspect to understand class balance >> Would potentially benefit from understanding taxonomy structure\n",
    "## e.g., 0 [birds] > 21 [woodpeckers] > 124 [red-naped sapsucker] > 555 [red-naped sapsucker]\n",
    "## e.g., 0 [birds] > 9 [caracaras and falcons] > 176 [peregrine falcon] > 663 [peregrine falcon (immature)]\n",
    "## e.g., 0 [birds] > 9 [caracaras and falcons] > 176 [peregrine falcon] > 364 [peregrine falcon (adult)]"
   ]
  },
  {
   "cell_type": "markdown",
   "metadata": {},
   "source": [
    "<a id='classes'></a>\n",
    "\n",
    "##### ------- List of class names (classes.txt) ------\n",
    "```\n",
    "The list of class names (bird species) is contained in the file classes.txt, with each line corresponding to one class:\n",
    "\n",
    "<class_id> <class_name>\n",
    "--------------------------------------------\n",
    "```"
   ]
  },
  {
   "cell_type": "code",
   "execution_count": 8,
   "metadata": {},
   "outputs": [
    {
     "name": "stdout",
     "output_type": "stream",
     "text": [
      "classes.txt: Success!\n"
     ]
    }
   ],
   "source": [
    "classes_srs = get_table(\"classes.txt\", 1)"
   ]
  },
  {
   "cell_type": "markdown",
   "metadata": {},
   "source": [
    "<a id='bounding_boxes'></a>\n",
    "\n",
    "##### ------- Bounding boxes (bounding_boxes.txt) ------\n",
    "\n",
    "```\n",
    "Each image contains a single bounding box label.  Bounding box labels are contained in the file bounding_boxes.txt, with each line corresponding to one image:\n",
    "\n",
    "<image_id> <x> <y> <width> <height>\n",
    "\n",
    "where <image_id> corresponds to the ID in images.txt, and <x>, <y>, <width>, and <height> are all measured in pixels\n",
    "------------------------------------------\n",
    "```"
   ]
  },
  {
   "cell_type": "code",
   "execution_count": 9,
   "metadata": {},
   "outputs": [
    {
     "name": "stdout",
     "output_type": "stream",
     "text": [
      "bounding_boxes.txt: Success!\n"
     ]
    }
   ],
   "source": [
    "b_boxes_df = get_table(\"bounding_boxes.txt\", 4)"
   ]
  },
  {
   "cell_type": "markdown",
   "metadata": {},
   "source": [
    "<a id='part_locations'></a>\n",
    "\n",
    "##### ------- Part locations (parts/part_locs.txt) ------\n",
    "```\n",
    "The set of all ground truth part locations is contained in the file parts/part_locs.txt, with each line corresponding to the annotation of a particular part in a particular image:\n",
    "\n",
    "<image_id> <part_id> <x> <y> <visible>\n",
    "\n",
    "where <image_id> and <part_id> correspond to the IDs in images.txt and parts/parts.txt, respectively.  <x> and <y> denote the pixel location of the center of the part.  <visible> is 0 if the part is not visible in the image and 1 otherwise.\n",
    "----------------------------------------------------------\n",
    "```"
   ]
  },
  {
   "cell_type": "code",
   "execution_count": 10,
   "metadata": {},
   "outputs": [
    {
     "name": "stdout",
     "output_type": "stream",
     "text": [
      "Your index got split ...MultiIndex FTW!\n",
      "parts/part_locs.txt: Success!\n"
     ]
    }
   ],
   "source": [
    "parts_locs_df = get_table(\"parts/part_locs.txt\", 3, [0,1])\n",
    "## needs scaling for image size... images will be resized"
   ]
  },
  {
   "cell_type": "markdown",
   "metadata": {},
   "source": [
    "<a id='parts'></a>\n",
    "\n",
    "##### ------- List of part names (parts/parts.txt) ------\n",
    "```\n",
    "The list of all part names is contained in the file parts/parts.txt, with each line corresponding to one part:\n",
    "\n",
    "<part_id> <part_name>\n",
    "------------------------------------------\n",
    "```"
   ]
  },
  {
   "cell_type": "code",
   "execution_count": 11,
   "metadata": {},
   "outputs": [
    {
     "name": "stdout",
     "output_type": "stream",
     "text": [
      "parts/parts.txt: Success!\n"
     ]
    }
   ],
   "source": [
    "parts_srs = get_table(\"parts/parts.txt\", 1)"
   ]
  },
  {
   "cell_type": "markdown",
   "metadata": {},
   "source": [
    "<a id='sizes'></a>\n",
    "\n",
    "##### ------- Image sizes (sizes.txt) ------\n",
    "```\n",
    "The size of each image in pixels:\n",
    "\n",
    "<image_id> <width> <height>\n",
    "\n",
    "where <image_id> corresponds to the ID in images.txt, and <width> and <height> correspond to the width and height of the image in pixels.\n",
    "------------------------------------------------------\n",
    "```"
   ]
  },
  {
   "cell_type": "code",
   "execution_count": 12,
   "metadata": {},
   "outputs": [
    {
     "name": "stdout",
     "output_type": "stream",
     "text": [
      "sizes.txt: Success!\n"
     ]
    }
   ],
   "source": [
    "sizes_df = get_table(\"sizes.txt\", 2)"
   ]
  },
  {
   "cell_type": "markdown",
   "metadata": {},
   "source": [
    "<a id='photographers'></a>\n",
    "\n",
    "##### ------- Image photographers (photographers.txt) ------\n",
    "```\n",
    "The photographer for each image:\n",
    "\n",
    "<image_id> <photographer_name>\n",
    "\n",
    "where <image_id> corresponds to the ID in images.txt, and <photographer_name> corresponds to the name of the photographer that took the photo. Please\n",
    "be considerate and display the photographer's name when displaying their image.\n",
    "------------------------------------------------------\n",
    "```"
   ]
  },
  {
   "cell_type": "markdown",
   "metadata": {},
   "source": [
    "<a id='test_train_split'></a>\n",
    "\n",
    "##### ------- Train/test split (train_test_split.txt) ------\n",
    "```\n",
    "The suggested train/test split is contained in the file train_test_split.txt, with each line corresponding to one image:\n",
    "\n",
    "<image_id> <is_training_image>\n",
    "\n",
    "where <image_id> corresponds to the ID in images.txt, and a value of 1 or 0 for <is_training_image> denotes that the file is in the training or test set, respectively.\n",
    "------------------------------------------------------\n",
    "```"
   ]
  },
  {
   "cell_type": "code",
   "execution_count": 13,
   "metadata": {},
   "outputs": [
    {
     "name": "stdout",
     "output_type": "stream",
     "text": [
      "train_test_split.txt: Success!\n"
     ]
    }
   ],
   "source": [
    "train_test_split_srs = get_table(\"train_test_split.txt\", 1)"
   ]
  },
  {
   "cell_type": "code",
   "execution_count": 14,
   "metadata": {},
   "outputs": [],
   "source": [
    "## given a category number, return it's parent category stop when parent category is 0\n",
    "\n",
    "def traverse_taxonomy(category):\n",
    "    parent_category = class_hierarchy_dict.get(category, False)\n",
    "    if parent_category:\n",
    "        return f\"{traverse_taxonomy(parent_category)} < {parent_category}\"\n",
    "    else:\n",
    "        return parent_category"
   ]
  },
  {
   "cell_type": "code",
   "execution_count": 15,
   "metadata": {},
   "outputs": [
    {
     "name": "stdout",
     "output_type": "stream",
     "text": [
      "0 < 9 < 176\n"
     ]
    }
   ],
   "source": [
    "print(traverse_taxonomy(663))"
   ]
  },
  {
   "cell_type": "code",
   "execution_count": 16,
   "metadata": {},
   "outputs": [
    {
     "data": {
      "text/plain": [
       "True"
      ]
     },
     "execution_count": 16,
     "metadata": {},
     "output_type": "execute_result"
    }
   ],
   "source": [
    "all(class_hierarchy_srs.index.astype(int)[:5] == class_hierarchy_srs.index[:5])"
   ]
  },
  {
   "cell_type": "code",
   "execution_count": 17,
   "metadata": {},
   "outputs": [
    {
     "data": {
      "text/plain": [
       "1010"
      ]
     },
     "execution_count": 17,
     "metadata": {},
     "output_type": "execute_result"
    }
   ],
   "source": [
    "len(class_hierarchy_dict)"
   ]
  },
  {
   "cell_type": "code",
   "execution_count": null,
   "metadata": {},
   "outputs": [],
   "source": []
  }
 ],
 "metadata": {
  "kernelspec": {
   "display_name": "conda_tensorflow_p36",
   "language": "python",
   "name": "conda_tensorflow_p36"
  },
  "language_info": {
   "codemirror_mode": {
    "name": "ipython",
    "version": 3
   },
   "file_extension": ".py",
   "mimetype": "text/x-python",
   "name": "python",
   "nbconvert_exporter": "python",
   "pygments_lexer": "ipython3",
   "version": "3.6.6"
  }
 },
 "nbformat": 4,
 "nbformat_minor": 4
}
